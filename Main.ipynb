{
 "cells": [
  {
   "cell_type": "code",
   "execution_count": 1,
   "id": "ffbce10c",
   "metadata": {},
   "outputs": [],
   "source": [
    "import pandas as pd"
   ]
  },
  {
   "cell_type": "code",
   "execution_count": 2,
   "id": "2fbe9bb3",
   "metadata": {},
   "outputs": [],
   "source": [
    "# a. Extract the necessary data from the Amazon sales dataset\n",
    "# Assuming 'Amazon Sales_data.csv' is your dataset file\n",
    "file_path = \"Amazon Sales data.csv\"\n",
    "df = pd.read_csv(file_path)"
   ]
  },
  {
   "cell_type": "code",
   "execution_count": 3,
   "id": "98f4bddb",
   "metadata": {},
   "outputs": [
    {
     "name": "stdout",
     "output_type": "stream",
     "text": [
      "                              Region                Country        Item Type  \\\n",
      "0              Australia and Oceania                 Tuvalu        Baby Food   \n",
      "1  Central America and the Caribbean                Grenada           Cereal   \n",
      "2                             Europe                 Russia  Office Supplies   \n",
      "3                 Sub-Saharan Africa  Sao Tome and Principe           Fruits   \n",
      "4                 Sub-Saharan Africa                 Rwanda  Office Supplies   \n",
      "\n",
      "  Sales Channel Order Priority Order Date   Order ID  Ship Date  Units Sold  \\\n",
      "0       Offline              H  5/28/2010  669165933  6/27/2010        9925   \n",
      "1        Online              C  8/22/2012  963881480  9/15/2012        2804   \n",
      "2       Offline              L   5/2/2014  341417157   5/8/2014        1779   \n",
      "3        Online              C  6/20/2014  514321792   7/5/2014        8102   \n",
      "4       Offline              L   2/1/2013  115456712   2/6/2013        5062   \n",
      "\n",
      "   Unit Price  Unit Cost  Total Revenue  Total Cost  Total Profit  \n",
      "0      255.28     159.42     2533654.00  1582243.50     951410.50  \n",
      "1      205.70     117.11      576782.80   328376.44     248406.36  \n",
      "2      651.21     524.96     1158502.59   933903.84     224598.75  \n",
      "3        9.33       6.92       75591.66    56065.84      19525.82  \n",
      "4      651.21     524.96     3296425.02  2657347.52     639077.50  \n"
     ]
    }
   ],
   "source": [
    "# Display the first few rows to understand the structure\n",
    "print(df.head())"
   ]
  },
  {
   "cell_type": "code",
   "execution_count": 4,
   "id": "24847a0c",
   "metadata": {},
   "outputs": [],
   "source": [
    "# b. Transform the data\n",
    "# Convert 'Order Date' to datetime format\n",
    "df['Order Date'] = pd.to_datetime(df['Order Date'])"
   ]
  },
  {
   "cell_type": "code",
   "execution_count": 5,
   "id": "3bd38781",
   "metadata": {},
   "outputs": [],
   "source": [
    "# Extract Time Components\n",
    "df['Month'] = df['Order Date'].dt.month\n",
    "df['Year'] = df['Order Date'].dt.year\n",
    "df['YearMonth'] = df['Order Date'].dt.to_period('M')"
   ]
  },
  {
   "cell_type": "code",
   "execution_count": 6,
   "id": "3d792fef",
   "metadata": {},
   "outputs": [],
   "source": [
    "# Aggregate Sales Data\n",
    "monthly_sales = df.groupby('YearMonth')['Total Revenue'].sum()\n",
    "yearly_sales = df.groupby('Year')['Total Revenue'].sum()\n",
    "yearly_monthly_sales = df.groupby(['Year', 'Month'])['Total Revenue'].sum()"
   ]
  },
  {
   "cell_type": "code",
   "execution_count": 7,
   "id": "9ed79096",
   "metadata": {},
   "outputs": [],
   "source": [
    "# c. Load the transformed data back into a new dataframe or output file\n",
    "# Save aggregated data to new CSV files (optional)\n",
    "monthly_sales.to_csv(\"monthly_sales_trend.csv\", header=True)\n",
    "yearly_sales.to_csv(\"yearly_sales_trend.csv\", header=True)\n",
    "yearly_monthly_sales.to_csv(\"yearly_monthly_sales_trend.csv\", header=True)"
   ]
  },
  {
   "cell_type": "code",
   "execution_count": null,
   "id": "bfdb73ae",
   "metadata": {},
   "outputs": [],
   "source": []
  }
 ],
 "metadata": {
  "kernelspec": {
   "display_name": "Python 3 (ipykernel)",
   "language": "python",
   "name": "python3"
  },
  "language_info": {
   "codemirror_mode": {
    "name": "ipython",
    "version": 3
   },
   "file_extension": ".py",
   "mimetype": "text/x-python",
   "name": "python",
   "nbconvert_exporter": "python",
   "pygments_lexer": "ipython3",
   "version": "3.11.3"
  }
 },
 "nbformat": 4,
 "nbformat_minor": 5
}
